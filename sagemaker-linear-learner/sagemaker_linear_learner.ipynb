{
 "cells": [
  {
   "cell_type": "code",
   "execution_count": null,
   "metadata": {},
   "outputs": [],
   "source": [
    "%pip install -U sagemaker>=2.15"
   ]
  },
  {
   "cell_type": "code",
   "execution_count": null,
   "metadata": {},
   "outputs": [],
   "source": [
    "%pip install -U numpy==1.19.3"
   ]
  },
  {
   "cell_type": "markdown",
   "metadata": {},
   "source": [
    "``` INI\n",
    "[api_user]\n",
    "aws_access_key_id = <your key ID>\n",
    "aws_secret_access_key = <your access key>\n",
    "region = <your region>\n",
    "\n",
    "[default]\n",
    "role_arn = <role arn>\n",
    "source_profile = api_user\n",
    "region = <your region>\n",
    "\n",
    "```"
   ]
  },
  {
   "cell_type": "code",
   "execution_count": null,
   "metadata": {},
   "outputs": [],
   "source": [
    "import sagemaker as sm\n",
    "from sagemaker import get_execution_role\n",
    "\n",
    "sagemaker_session = sm.Session()\n",
    "sagemaker_role = sm.get_execution_role()\n",
    "\n",
    "bucket = sagemaker_session.default_bucket()\n",
    "prefix = 'machine-learning-example-sagemaker-linear-learner'"
   ]
  },
  {
   "cell_type": "code",
   "execution_count": null,
   "metadata": {},
   "outputs": [],
   "source": [
    "WORK_DIRECTORY = 'data'\n",
    "\n",
    "train_input = sagemaker_session.upload_data(\n",
    "    path = '{}/{}'.format(WORK_DIRECTORY, 'cardio_train.csv'), \n",
    "    bucket = bucket,\n",
    "    key_prefix = '{}/{}'.format(prefix, 'train'))"
   ]
  },
  {
   "cell_type": "markdown",
   "metadata": {},
   "source": [
    "# References \n",
    "\n",
    "- https://stackoverflow.com/questions/47710558/the-current-aws-identity-is-not-a-role-for-sagemaker\n",
    "- https://www.kaggle.com/sulianova/cardiovascular-disease-dataset"
   ]
  }
 ],
 "metadata": {
  "kernelspec": {
   "display_name": "Python 3",
   "language": "python",
   "name": "python3"
  },
  "language_info": {
   "codemirror_mode": {
    "name": "ipython",
    "version": 3
   },
   "file_extension": ".py",
   "mimetype": "text/x-python",
   "name": "python",
   "nbconvert_exporter": "python",
   "pygments_lexer": "ipython3",
   "version": "3.8.5"
  }
 },
 "nbformat": 4,
 "nbformat_minor": 4
}
