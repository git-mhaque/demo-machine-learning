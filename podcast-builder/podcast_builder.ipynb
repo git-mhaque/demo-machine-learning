{
 "cells": [
  {
   "cell_type": "markdown",
   "metadata": {},
   "source": [
    "# Podcast Builder \n",
    "In this example, we will be using Amazon Polly text to speech service to convert pain text into an audio file. \n"
   ]
  },
  {
   "cell_type": "markdown",
   "metadata": {},
   "source": [
    "# Installing pre-requisite libraries "
   ]
  },
  {
   "cell_type": "code",
   "execution_count": null,
   "metadata": {},
   "outputs": [],
   "source": [
    "%pip install boto3"
   ]
  },
  {
   "cell_type": "markdown",
   "metadata": {},
   "source": [
    "# Reading the text for your podcast script"
   ]
  },
  {
   "cell_type": "code",
   "execution_count": null,
   "metadata": {},
   "outputs": [],
   "source": [
    "f = open(\"script.txt\", \"r\", encoding = \"utf8\")\n",
    "text_to_convert = f.read()\n",
    "print(text_to_convert)\n",
    "f.close()"
   ]
  },
  {
   "cell_type": "markdown",
   "metadata": {},
   "source": [
    "# Setting up account to access Amazon Polly text to speech service\n",
    "\n",
    "Create a new user from AWS console for programmatic access and assign the policy `AmazonPollyFullAccess` to this user. \n",
    "\n",
    "``` json\n",
    "{\n",
    "    \"Version\": \"2012-10-17\",\n",
    "    \"Statement\": [\n",
    "        {\n",
    "            \"Effect\": \"Allow\",\n",
    "            \"Action\": [\n",
    "                \"polly:*\"\n",
    "            ],\n",
    "            \"Resource\": [\n",
    "                \"*\"\n",
    "            ]\n",
    "        }\n",
    "    ]\n",
    "}\n",
    "```\n",
    "\n",
    "Now download or copy the `access key ID` and `secret access key` for the newly created user. Store these credential information at this location (`~/.aws/credentials`) in INI format.    \n",
    "\n",
    "``` INI\n",
    "[default]\n",
    "aws_access_key_id=<your key ID>\n",
    "aws_secret_access_key=<your access key>\n",
    "```"
   ]
  },
  {
   "cell_type": "markdown",
   "metadata": {},
   "source": [
    "# Calling Polly client to create audio file for your text"
   ]
  },
  {
   "cell_type": "code",
   "execution_count": null,
   "metadata": {},
   "outputs": [],
   "source": [
    "import boto3\n",
    "\n",
    "boto3_session = boto3.Session(region_name = 'us-east-1')\n",
    "\n",
    "polly_client = boto3_session.client('polly')\n",
    "\n",
    "response = polly_client.synthesize_speech(\n",
    "        VoiceId = 'Brian',\n",
    "        OutputFormat = 'mp3', \n",
    "        Engine = \"neural\",\n",
    "        Text = text_to_convert)\n",
    "\n",
    "file = open('podcast.mp3', 'wb')\n",
    "file.write(response['AudioStream'].read())\n",
    "file.close()"
   ]
  },
  {
   "cell_type": "markdown",
   "metadata": {},
   "source": [
    "# References\n",
    "\n",
    "- https://docs.aws.amazon.com/polly/latest/dg/SynthesizeSpeechSamplePython.html \"SynthesizeSpeech\"\n",
    "- https://boto3.amazonaws.com/v1/documentation/api/latest/guide/credentials.html \"Credentials\"\n",
    "- https://console.aws.amazon.com/polly/home/SynthesizeSpeech"
   ]
  },
  {
   "cell_type": "code",
   "execution_count": null,
   "metadata": {},
   "outputs": [],
   "source": []
  }
 ],
 "metadata": {
  "kernelspec": {
   "display_name": "Python 3",
   "language": "python",
   "name": "python3"
  },
  "language_info": {
   "codemirror_mode": {
    "name": "ipython",
    "version": 3
   },
   "file_extension": ".py",
   "mimetype": "text/x-python",
   "name": "python",
   "nbconvert_exporter": "python",
   "pygments_lexer": "ipython3",
   "version": "3.8.5"
  }
 },
 "nbformat": 4,
 "nbformat_minor": 4
}
